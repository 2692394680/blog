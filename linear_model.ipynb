{
 "cells": [
  {
   "cell_type": "markdown",
   "metadata": {},
   "source": [
    "```\n",
    "Author： 孙兰昌-北京邮电大学-计算机学院\n",
    "Blog: https://blog.csdn.net/sunlanchang/article/details/102679472\n",
    "Github: https://github.com/sunlanchang/blog/blob/master/linear_model.ipynb\n",
    "```"
   ]
  },
  {
   "cell_type": "code",
   "execution_count": 1,
   "metadata": {},
   "outputs": [],
   "source": [
    "import pandas as pd\n",
    "import numpy as np\n",
    "from tqdm import tqdm"
   ]
  },
  {
   "cell_type": "markdown",
   "metadata": {},
   "source": [
    "# Preprocess train data "
   ]
  },
  {
   "cell_type": "markdown",
   "metadata": {},
   "source": [
    "## Before you start, please move the train.csv and test.csv to current directory."
   ]
  },
  {
   "cell_type": "code",
   "execution_count": 2,
   "metadata": {},
   "outputs": [
    {
     "data": {
      "text/html": [
       "<div>\n",
       "<style scoped>\n",
       "    .dataframe tbody tr th:only-of-type {\n",
       "        vertical-align: middle;\n",
       "    }\n",
       "\n",
       "    .dataframe tbody tr th {\n",
       "        vertical-align: top;\n",
       "    }\n",
       "\n",
       "    .dataframe thead th {\n",
       "        text-align: right;\n",
       "    }\n",
       "</style>\n",
       "<table border=\"1\" class=\"dataframe\">\n",
       "  <thead>\n",
       "    <tr style=\"text-align: right;\">\n",
       "      <th></th>\n",
       "      <th>日期</th>\n",
       "      <th>測站</th>\n",
       "      <th>測項</th>\n",
       "      <th>0</th>\n",
       "      <th>1</th>\n",
       "      <th>2</th>\n",
       "      <th>3</th>\n",
       "      <th>4</th>\n",
       "      <th>5</th>\n",
       "      <th>6</th>\n",
       "      <th>...</th>\n",
       "      <th>14</th>\n",
       "      <th>15</th>\n",
       "      <th>16</th>\n",
       "      <th>17</th>\n",
       "      <th>18</th>\n",
       "      <th>19</th>\n",
       "      <th>20</th>\n",
       "      <th>21</th>\n",
       "      <th>22</th>\n",
       "      <th>23</th>\n",
       "    </tr>\n",
       "  </thead>\n",
       "  <tbody>\n",
       "    <tr>\n",
       "      <th>count</th>\n",
       "      <td>4320</td>\n",
       "      <td>4320</td>\n",
       "      <td>4320</td>\n",
       "      <td>4320</td>\n",
       "      <td>4320</td>\n",
       "      <td>4320</td>\n",
       "      <td>4320</td>\n",
       "      <td>4320</td>\n",
       "      <td>4320</td>\n",
       "      <td>4320</td>\n",
       "      <td>...</td>\n",
       "      <td>4320</td>\n",
       "      <td>4320</td>\n",
       "      <td>4320</td>\n",
       "      <td>4320</td>\n",
       "      <td>4320</td>\n",
       "      <td>4320</td>\n",
       "      <td>4320</td>\n",
       "      <td>4320</td>\n",
       "      <td>4320</td>\n",
       "      <td>4320</td>\n",
       "    </tr>\n",
       "    <tr>\n",
       "      <th>unique</th>\n",
       "      <td>240</td>\n",
       "      <td>1</td>\n",
       "      <td>18</td>\n",
       "      <td>369</td>\n",
       "      <td>361</td>\n",
       "      <td>351</td>\n",
       "      <td>355</td>\n",
       "      <td>353</td>\n",
       "      <td>342</td>\n",
       "      <td>356</td>\n",
       "      <td>...</td>\n",
       "      <td>423</td>\n",
       "      <td>411</td>\n",
       "      <td>409</td>\n",
       "      <td>423</td>\n",
       "      <td>405</td>\n",
       "      <td>374</td>\n",
       "      <td>366</td>\n",
       "      <td>374</td>\n",
       "      <td>382</td>\n",
       "      <td>370</td>\n",
       "    </tr>\n",
       "    <tr>\n",
       "      <th>top</th>\n",
       "      <td>2014/12/6</td>\n",
       "      <td>豐原</td>\n",
       "      <td>O3</td>\n",
       "      <td>NR</td>\n",
       "      <td>NR</td>\n",
       "      <td>NR</td>\n",
       "      <td>NR</td>\n",
       "      <td>NR</td>\n",
       "      <td>NR</td>\n",
       "      <td>NR</td>\n",
       "      <td>...</td>\n",
       "      <td>NR</td>\n",
       "      <td>NR</td>\n",
       "      <td>NR</td>\n",
       "      <td>NR</td>\n",
       "      <td>NR</td>\n",
       "      <td>NR</td>\n",
       "      <td>NR</td>\n",
       "      <td>NR</td>\n",
       "      <td>NR</td>\n",
       "      <td>NR</td>\n",
       "    </tr>\n",
       "    <tr>\n",
       "      <th>freq</th>\n",
       "      <td>18</td>\n",
       "      <td>4320</td>\n",
       "      <td>240</td>\n",
       "      <td>221</td>\n",
       "      <td>225</td>\n",
       "      <td>229</td>\n",
       "      <td>226</td>\n",
       "      <td>229</td>\n",
       "      <td>230</td>\n",
       "      <td>226</td>\n",
       "      <td>...</td>\n",
       "      <td>220</td>\n",
       "      <td>219</td>\n",
       "      <td>221</td>\n",
       "      <td>221</td>\n",
       "      <td>222</td>\n",
       "      <td>223</td>\n",
       "      <td>225</td>\n",
       "      <td>224</td>\n",
       "      <td>226</td>\n",
       "      <td>224</td>\n",
       "    </tr>\n",
       "  </tbody>\n",
       "</table>\n",
       "<p>4 rows × 27 columns</p>\n",
       "</div>"
      ],
      "text/plain": [
       "               日期    測站    測項     0     1     2     3     4     5     6  ...   \\\n",
       "count        4320  4320  4320  4320  4320  4320  4320  4320  4320  4320  ...    \n",
       "unique        240     1    18   369   361   351   355   353   342   356  ...    \n",
       "top     2014/12/6    豐原    O3    NR    NR    NR    NR    NR    NR    NR  ...    \n",
       "freq           18  4320   240   221   225   229   226   229   230   226  ...    \n",
       "\n",
       "          14    15    16    17    18    19    20    21    22    23  \n",
       "count   4320  4320  4320  4320  4320  4320  4320  4320  4320  4320  \n",
       "unique   423   411   409   423   405   374   366   374   382   370  \n",
       "top       NR    NR    NR    NR    NR    NR    NR    NR    NR    NR  \n",
       "freq     220   219   221   221   222   223   225   224   226   224  \n",
       "\n",
       "[4 rows x 27 columns]"
      ]
     },
     "execution_count": 2,
     "metadata": {},
     "output_type": "execute_result"
    }
   ],
   "source": [
    "df_train = pd.read_csv('train.csv',encoding = 'Big5')\n",
    "df_train.describe()"
   ]
  },
  {
   "cell_type": "markdown",
   "metadata": {},
   "source": [
    "### take a look at '測項' feature"
   ]
  },
  {
   "cell_type": "code",
   "execution_count": 3,
   "metadata": {},
   "outputs": [],
   "source": [
    "tmp = df_train.loc[df_train['測項']=='RAINFALL']\n",
    "def helper(row):\n",
    "#     print(row.values.tolist().count('NR'))\n",
    "    pass\n",
    "    \n",
    "# tmp.apply(helper, axis=1)"
   ]
  },
  {
   "cell_type": "markdown",
   "metadata": {},
   "source": [
    "### concat each day data to a DataFrame"
   ]
  },
  {
   "cell_type": "code",
   "execution_count": 4,
   "metadata": {},
   "outputs": [
    {
     "name": "stdout",
     "output_type": "stream",
     "text": [
      "(17, 5760)\n"
     ]
    }
   ],
   "source": [
    "df_train_cat = pd.DataFrame()\n",
    "for time in df_train['日期'].unique():\n",
    "    tmp = df_train.loc[df_train['日期'] == str(time), '0':'23']\n",
    "    tmp_col_name = list(tmp.columns)\n",
    "    tmp.columns = [time+'_'+col_name for col_name in tmp_col_name]\n",
    "    tmp.reset_index(drop=True, inplace=True)#promise index is same when merging\n",
    "    df_train_cat = pd.concat([df_train_cat, tmp], axis=1)\n",
    "df_train_cat.drop([10], inplace=True)#remove NR row\n",
    "df_train_cat = df_train_cat.astype('float')\n",
    "print(df_train_cat.shape)"
   ]
  },
  {
   "cell_type": "markdown",
   "metadata": {},
   "source": [
    "## Train data is composed with every 10 hours df_train_cat data"
   ]
  },
  {
   "cell_type": "markdown",
   "metadata": {},
   "source": [
    "## train data shape (576, 153) means 576 examples and 153 features"
   ]
  },
  {
   "cell_type": "code",
   "execution_count": 5,
   "metadata": {},
   "outputs": [
    {
     "name": "stdout",
     "output_type": "stream",
     "text": [
      "(576, 153)\n",
      "(576, 1)\n"
     ]
    }
   ],
   "source": [
    "label = []\n",
    "columns = list(df_train_cat.columns)\n",
    "flag = True\n",
    "for start in range(0, df_train_cat.shape[1], 10):\n",
    "    train_data_2d = df_train_cat.loc[:, columns[start]:columns[start+8]]\n",
    "    label.append(train_data_2d.loc[9,train_data_2d.columns[-1]])\n",
    "    if flag:\n",
    "        train_data_example_1d = train_data_2d.values.reshape(1,-1)\n",
    "        flag = False\n",
    "    else:\n",
    "        train_data_example_1d = np.vstack((train_data_example_1d, train_data_2d.values.reshape(1,-1)))\n",
    "label = np.array(label).reshape(-1,1)\n",
    "train_data_all = train_data_example_1d\n",
    "print(train_data_all.shape)\n",
    "print(label.shape)"
   ]
  },
  {
   "cell_type": "markdown",
   "metadata": {},
   "source": [
    "# Split all labeled data to train dataset and validation dataset"
   ]
  },
  {
   "cell_type": "code",
   "execution_count": 6,
   "metadata": {},
   "outputs": [
    {
     "name": "stdout",
     "output_type": "stream",
     "text": [
      "(461, 153) (461, 1) (115, 153) (115, 1)\n"
     ]
    }
   ],
   "source": [
    "val_proportion = 0.2 #the proportion of validation data\n",
    "mid = int(val_proportion * train_data_all.shape[0])\n",
    "indices = np.random.permutation(train_data_all.shape[0])\n",
    "val_idx, train_idx  = indices[:mid], indices[mid:]\n",
    "X_train, y_train = train_data_all[train_idx,:], label[train_idx,:]\n",
    "X_val, y_val = train_data_all[val_idx, :], label[val_idx, :]\n",
    "print(X_train.shape, y_train.shape, X_val.shape, y_val.shape)"
   ]
  },
  {
   "cell_type": "markdown",
   "metadata": {},
   "source": [
    "# Test data preprocess"
   ]
  },
  {
   "cell_type": "code",
   "execution_count": 7,
   "metadata": {},
   "outputs": [
    {
     "data": {
      "text/html": [
       "<div>\n",
       "<style scoped>\n",
       "    .dataframe tbody tr th:only-of-type {\n",
       "        vertical-align: middle;\n",
       "    }\n",
       "\n",
       "    .dataframe tbody tr th {\n",
       "        vertical-align: top;\n",
       "    }\n",
       "\n",
       "    .dataframe thead th {\n",
       "        text-align: right;\n",
       "    }\n",
       "</style>\n",
       "<table border=\"1\" class=\"dataframe\">\n",
       "  <thead>\n",
       "    <tr style=\"text-align: right;\">\n",
       "      <th></th>\n",
       "      <th>0</th>\n",
       "      <th>1</th>\n",
       "      <th>2</th>\n",
       "      <th>3</th>\n",
       "      <th>4</th>\n",
       "      <th>5</th>\n",
       "      <th>6</th>\n",
       "      <th>7</th>\n",
       "      <th>8</th>\n",
       "      <th>9</th>\n",
       "      <th>10</th>\n",
       "    </tr>\n",
       "  </thead>\n",
       "  <tbody>\n",
       "    <tr>\n",
       "      <th>0</th>\n",
       "      <td>id_0</td>\n",
       "      <td>AMB_TEMP</td>\n",
       "      <td>25</td>\n",
       "      <td>26</td>\n",
       "      <td>26</td>\n",
       "      <td>25</td>\n",
       "      <td>22</td>\n",
       "      <td>21</td>\n",
       "      <td>21</td>\n",
       "      <td>21</td>\n",
       "      <td>21</td>\n",
       "    </tr>\n",
       "    <tr>\n",
       "      <th>1</th>\n",
       "      <td>id_0</td>\n",
       "      <td>CH4</td>\n",
       "      <td>1.6</td>\n",
       "      <td>1.7</td>\n",
       "      <td>1.7</td>\n",
       "      <td>1.7</td>\n",
       "      <td>1.7</td>\n",
       "      <td>1.7</td>\n",
       "      <td>1.7</td>\n",
       "      <td>1.7</td>\n",
       "      <td>1.7</td>\n",
       "    </tr>\n",
       "    <tr>\n",
       "      <th>2</th>\n",
       "      <td>id_0</td>\n",
       "      <td>CO</td>\n",
       "      <td>0.3</td>\n",
       "      <td>0.36</td>\n",
       "      <td>0.47</td>\n",
       "      <td>0.48</td>\n",
       "      <td>0.41</td>\n",
       "      <td>0.41</td>\n",
       "      <td>0.39</td>\n",
       "      <td>0.39</td>\n",
       "      <td>0.45</td>\n",
       "    </tr>\n",
       "    <tr>\n",
       "      <th>3</th>\n",
       "      <td>id_0</td>\n",
       "      <td>NMHC</td>\n",
       "      <td>0.1</td>\n",
       "      <td>0.22</td>\n",
       "      <td>0.2</td>\n",
       "      <td>0.21</td>\n",
       "      <td>0.08</td>\n",
       "      <td>0.1</td>\n",
       "      <td>0.14</td>\n",
       "      <td>0.12</td>\n",
       "      <td>0.15</td>\n",
       "    </tr>\n",
       "    <tr>\n",
       "      <th>4</th>\n",
       "      <td>id_0</td>\n",
       "      <td>NO</td>\n",
       "      <td>1.2</td>\n",
       "      <td>2.2</td>\n",
       "      <td>3.2</td>\n",
       "      <td>1.8</td>\n",
       "      <td>1.3</td>\n",
       "      <td>0.6</td>\n",
       "      <td>0.7</td>\n",
       "      <td>0.9</td>\n",
       "      <td>3.6</td>\n",
       "    </tr>\n",
       "  </tbody>\n",
       "</table>\n",
       "</div>"
      ],
      "text/plain": [
       "     0         1    2     3     4     5     6     7     8     9     10\n",
       "0  id_0  AMB_TEMP   25    26    26    25    22    21    21    21    21\n",
       "1  id_0       CH4  1.6   1.7   1.7   1.7   1.7   1.7   1.7   1.7   1.7\n",
       "2  id_0        CO  0.3  0.36  0.47  0.48  0.41  0.41  0.39  0.39  0.45\n",
       "3  id_0      NMHC  0.1  0.22   0.2  0.21  0.08   0.1  0.14  0.12  0.15\n",
       "4  id_0        NO  1.2   2.2   3.2   1.8   1.3   0.6   0.7   0.9   3.6"
      ]
     },
     "execution_count": 7,
     "metadata": {},
     "output_type": "execute_result"
    }
   ],
   "source": [
    "df_test = pd.read_csv('test.csv', names=[num for num in range(11)], encoding = 'Big5')\n",
    "df_test.head()"
   ]
  },
  {
   "cell_type": "code",
   "execution_count": 8,
   "metadata": {},
   "outputs": [
    {
     "data": {
      "text/html": [
       "<div>\n",
       "<style scoped>\n",
       "    .dataframe tbody tr th:only-of-type {\n",
       "        vertical-align: middle;\n",
       "    }\n",
       "\n",
       "    .dataframe tbody tr th {\n",
       "        vertical-align: top;\n",
       "    }\n",
       "\n",
       "    .dataframe thead th {\n",
       "        text-align: right;\n",
       "    }\n",
       "</style>\n",
       "<table border=\"1\" class=\"dataframe\">\n",
       "  <thead>\n",
       "    <tr style=\"text-align: right;\">\n",
       "      <th></th>\n",
       "      <th>0</th>\n",
       "      <th>1</th>\n",
       "      <th>2</th>\n",
       "      <th>3</th>\n",
       "      <th>4</th>\n",
       "      <th>5</th>\n",
       "      <th>6</th>\n",
       "      <th>7</th>\n",
       "      <th>8</th>\n",
       "      <th>9</th>\n",
       "      <th>10</th>\n",
       "    </tr>\n",
       "  </thead>\n",
       "  <tbody>\n",
       "    <tr>\n",
       "      <th>count</th>\n",
       "      <td>4320</td>\n",
       "      <td>4320</td>\n",
       "      <td>4320</td>\n",
       "      <td>4320</td>\n",
       "      <td>4320</td>\n",
       "      <td>4320</td>\n",
       "      <td>4320</td>\n",
       "      <td>4320</td>\n",
       "      <td>4320</td>\n",
       "      <td>4320</td>\n",
       "      <td>4320</td>\n",
       "    </tr>\n",
       "    <tr>\n",
       "      <th>unique</th>\n",
       "      <td>240</td>\n",
       "      <td>18</td>\n",
       "      <td>433</td>\n",
       "      <td>426</td>\n",
       "      <td>430</td>\n",
       "      <td>422</td>\n",
       "      <td>425</td>\n",
       "      <td>424</td>\n",
       "      <td>416</td>\n",
       "      <td>410</td>\n",
       "      <td>416</td>\n",
       "    </tr>\n",
       "    <tr>\n",
       "      <th>top</th>\n",
       "      <td>id_185</td>\n",
       "      <td>O3</td>\n",
       "      <td>NR</td>\n",
       "      <td>NR</td>\n",
       "      <td>NR</td>\n",
       "      <td>NR</td>\n",
       "      <td>NR</td>\n",
       "      <td>NR</td>\n",
       "      <td>NR</td>\n",
       "      <td>NR</td>\n",
       "      <td>NR</td>\n",
       "    </tr>\n",
       "    <tr>\n",
       "      <th>freq</th>\n",
       "      <td>18</td>\n",
       "      <td>240</td>\n",
       "      <td>225</td>\n",
       "      <td>222</td>\n",
       "      <td>228</td>\n",
       "      <td>222</td>\n",
       "      <td>226</td>\n",
       "      <td>221</td>\n",
       "      <td>224</td>\n",
       "      <td>230</td>\n",
       "      <td>228</td>\n",
       "    </tr>\n",
       "  </tbody>\n",
       "</table>\n",
       "</div>"
      ],
      "text/plain": [
       "            0     1     2     3     4     5     6     7     8     9     10\n",
       "count     4320  4320  4320  4320  4320  4320  4320  4320  4320  4320  4320\n",
       "unique     240    18   433   426   430   422   425   424   416   410   416\n",
       "top     id_185    O3    NR    NR    NR    NR    NR    NR    NR    NR    NR\n",
       "freq        18   240   225   222   228   222   226   221   224   230   228"
      ]
     },
     "execution_count": 8,
     "metadata": {},
     "output_type": "execute_result"
    }
   ],
   "source": [
    "df_test.describe()"
   ]
  },
  {
   "cell_type": "markdown",
   "metadata": {},
   "source": [
    "## Same preprocess like train data"
   ]
  },
  {
   "cell_type": "code",
   "execution_count": 9,
   "metadata": {},
   "outputs": [
    {
     "name": "stdout",
     "output_type": "stream",
     "text": [
      "(17, 2160)\n"
     ]
    }
   ],
   "source": [
    "start_idx = 0\n",
    "df_test_cat = pd.DataFrame()\n",
    "for id_ in df_test[0].unique():\n",
    "    tmp = df_test.loc[df_test[0] == str(id_), 2:10]\n",
    "    tmp_col_name = list(tmp.columns)\n",
    "    tmp.columns = [num for num in range(start_idx, start_idx + 9)]\n",
    "    start_idx += 9\n",
    "    tmp.reset_index(drop=True, inplace=True)#promise index is same when merging\n",
    "    df_test_cat = pd.concat([df_test_cat, tmp], axis=1)\n",
    "df_test_cat.drop([10], inplace=True) #remove NR row\n",
    "df_test_cat = df_test_cat.astype('float')\n",
    "print(df_test_cat.shape)"
   ]
  },
  {
   "cell_type": "code",
   "execution_count": 10,
   "metadata": {},
   "outputs": [
    {
     "data": {
      "text/plain": [
       "(240, 153)"
      ]
     },
     "execution_count": 10,
     "metadata": {},
     "output_type": "execute_result"
    }
   ],
   "source": [
    "columns = list(df_test_cat.columns)\n",
    "flag = True\n",
    "for start in range(0, df_test_cat.shape[1], 9):\n",
    "    test_data_2d = df_test_cat.loc[:, columns[start]:columns[start+8]]\n",
    "    if flag:\n",
    "        test_data_example_1d = test_data_2d.values.reshape(1,-1)\n",
    "        flag = False\n",
    "    else:\n",
    "        test_data_example_1d = np.vstack((test_data_example_1d, test_data_2d.values.reshape(1,-1)))\n",
    "X_test = test_data_example_1d\n",
    "X_test.shape"
   ]
  },
  {
   "cell_type": "markdown",
   "metadata": {},
   "source": [
    "# Implement Linear Regression"
   ]
  },
  {
   "cell_type": "markdown",
   "metadata": {},
   "source": [
    "## Standardize train and val data"
   ]
  },
  {
   "cell_type": "code",
   "execution_count": 11,
   "metadata": {},
   "outputs": [],
   "source": [
    "def standardization(data):\n",
    "    mu = np.mean(data, axis=0)\n",
    "    sigma = np.std(data, axis=0)\n",
    "    return (data - mu) / sigma"
   ]
  },
  {
   "cell_type": "code",
   "execution_count": 12,
   "metadata": {},
   "outputs": [],
   "source": [
    "X_train = standardization(X_train)\n",
    "X_val = standardization(X_val)"
   ]
  },
  {
   "cell_type": "markdown",
   "metadata": {},
   "source": [
    "## Train Linear Regression model"
   ]
  },
  {
   "cell_type": "markdown",
   "metadata": {},
   "source": [
    "## Notice\n",
    "- W is a m * n matrix, but b is a scalar. \n",
    "- When I set b a m * 1 vector, I got a lot of error which caused by the size of b vector. \n",
    "- In order to calculate gridient of b, you need to sum vector of db element-wise, just like the code. That confused me a lot."
   ]
  },
  {
   "cell_type": "code",
   "execution_count": 13,
   "metadata": {},
   "outputs": [
    {
     "name": "stdout",
     "output_type": "stream",
     "text": [
      "train loss: [[473.25105808]], val loss: [[506.85180047]]\n",
      "train loss: [[43.31075257]], val loss: [[50.30960388]]\n",
      "train loss: [[10.98255212]], val loss: [[18.4697661]]\n",
      "train loss: [[5.07783257]], val loss: [[11.9838766]]\n",
      "train loss: [[3.33609128]], val loss: [[9.51441868]]\n",
      "train loss: [[2.4873367]], val loss: [[7.9955848]]\n",
      "train loss: [[1.95013164]], val loss: [[6.88096775]]\n",
      "train loss: [[1.57348018]], val loss: [[6.01416238]]\n",
      "train loss: [[1.29623708]], val loss: [[5.32069764]]\n",
      "train loss: [[1.08565753]], val loss: [[4.75488429]]\n",
      "train loss: [[0.9218369]], val loss: [[4.28598733]]\n",
      "train loss: [[0.79188977]], val loss: [[3.89240929]]\n",
      "train loss: [[0.68712585]], val loss: [[3.55850063]]\n",
      "train loss: [[0.60149325]], val loss: [[3.27262857]]\n",
      "train loss: [[0.53066215]], val loss: [[3.02595518]]\n",
      "train loss: [[0.47146194]], val loss: [[2.81163922]]\n",
      "train loss: [[0.42152391]], val loss: [[2.62430008]]\n",
      "train loss: [[0.37904754]], val loss: [[2.45964777]]\n",
      "train loss: [[0.34264369]], val loss: [[2.31422139]]\n",
      "train loss: [[0.31122666]], val loss: [[2.18520007]]\n"
     ]
    }
   ],
   "source": [
    "(m, n) = X_train.shape #m examples, n features\n",
    "W = np.random.rand(n, 1)\n",
    "# b = np.random.rand(m, 1)\n",
    "b = 0\n",
    "\n",
    "epoch = 200000\n",
    "lr = 0.0001\n",
    "for ep in range(epoch):\n",
    "    y_hat = X_train.dot(W) + b\n",
    "    tmp_train = y_hat - y_train\n",
    "    loss = tmp_train.T.dot(tmp_train) / (2 * m)\n",
    "    dW = np.dot(X_train.T, np.dot(X_train, W) + b - y_train) / m\n",
    "    db = np.dot(np.ones(shape=[1, X_train.shape[0]]),  np.dot(X_train, W) + b - y_train) / m # this is  right.\n",
    "    dp = np.sum(np.dot(X_train, W) + b - y_train) / m # this is also right.\n",
    "    W += - lr * dW\n",
    "    b += - lr * db\n",
    "\n",
    "    m_val = X_val.shape[0]\n",
    "    y_hat = X_val.dot(W) + b\n",
    "    tmp_val = y_hat - y_val\n",
    "    loss_val = tmp_val.T.dot(tmp_val) / (2 * m_val)\n",
    "    if ep % 10000 == 0:\n",
    "        print('train loss: {}, val loss: {}'.format(loss, loss_val))\n",
    "#         pass\n"
   ]
  },
  {
   "cell_type": "markdown",
   "metadata": {},
   "source": [
    "## Standardize test data"
   ]
  },
  {
   "cell_type": "code",
   "execution_count": 14,
   "metadata": {},
   "outputs": [],
   "source": [
    "X_test = standardization(X_test)"
   ]
  },
  {
   "cell_type": "markdown",
   "metadata": {},
   "source": [
    "## Predict data"
   ]
  },
  {
   "cell_type": "code",
   "execution_count": 15,
   "metadata": {},
   "outputs": [
    {
     "data": {
      "text/plain": [
       "array([[31.23789135],\n",
       "       [10.91846024],\n",
       "       [33.53879837],\n",
       "       [20.29396106],\n",
       "       [45.76892444],\n",
       "       [55.26823308],\n",
       "       [31.98168383],\n",
       "       [16.14821886],\n",
       "       [ 3.82161982],\n",
       "       [20.89239662],\n",
       "       [ 2.77983564],\n",
       "       [37.4800314 ],\n",
       "       [27.09427362],\n",
       "       [ 9.46954022],\n",
       "       [15.79451477],\n",
       "       [ 3.62477217],\n",
       "       [21.1547981 ],\n",
       "       [ 6.05173989],\n",
       "       [16.2041509 ],\n",
       "       [29.04795692],\n",
       "       [ 5.1728246 ],\n",
       "       [57.908577  ],\n",
       "       [ 3.94079159],\n",
       "       [11.24381152],\n",
       "       [38.28109898],\n",
       "       [ 9.90178504],\n",
       "       [10.39157355],\n",
       "       [10.66980927],\n",
       "       [15.39603933],\n",
       "       [14.74749505],\n",
       "       [30.225952  ],\n",
       "       [10.29197359],\n",
       "       [ 0.53467943],\n",
       "       [14.56075386],\n",
       "       [25.52752142],\n",
       "       [25.17374716],\n",
       "       [19.45838083],\n",
       "       [11.89537182],\n",
       "       [33.12955657],\n",
       "       [23.24193354],\n",
       "       [ 2.0443079 ],\n",
       "       [16.61158279],\n",
       "       [18.56372224],\n",
       "       [39.2747357 ],\n",
       "       [16.51318661],\n",
       "       [31.61880135],\n",
       "       [13.4069813 ],\n",
       "       [22.99387341],\n",
       "       [32.71319285],\n",
       "       [32.10889467],\n",
       "       [26.14619542],\n",
       "       [ 7.62886325],\n",
       "       [ 1.07530529],\n",
       "       [20.2789639 ],\n",
       "       [24.16231137],\n",
       "       [49.83900343],\n",
       "       [13.33919087],\n",
       "       [13.80451947],\n",
       "       [12.80073471],\n",
       "       [11.88004984],\n",
       "       [23.96079398],\n",
       "       [13.08618189],\n",
       "       [18.23828874],\n",
       "       [24.76453357],\n",
       "       [ 9.00483995],\n",
       "       [21.28304263],\n",
       "       [13.14483431],\n",
       "       [15.41536835],\n",
       "       [20.94446058],\n",
       "       [16.25040741],\n",
       "       [11.17190196],\n",
       "       [51.52070014],\n",
       "       [ 8.65668079],\n",
       "       [ 8.21965901],\n",
       "       [17.75536561],\n",
       "       [61.45340172],\n",
       "       [38.37804467],\n",
       "       [ 8.74007273],\n",
       "       [20.44420084],\n",
       "       [ 7.40678103],\n",
       "       [31.82690205],\n",
       "       [ 8.17460587],\n",
       "       [24.91556353],\n",
       "       [ 4.40353764],\n",
       "       [ 9.9277917 ],\n",
       "       [13.03722373],\n",
       "       [19.73570374],\n",
       "       [20.17759675],\n",
       "       [ 5.25606897],\n",
       "       [ 9.46492875],\n",
       "       [ 8.69155843],\n",
       "       [22.83226448],\n",
       "       [17.11986227],\n",
       "       [46.75331322],\n",
       "       [51.46840903],\n",
       "       [ 7.72045402],\n",
       "       [43.12997021],\n",
       "       [27.23592579],\n",
       "       [ 2.32183719],\n",
       "       [31.68450758],\n",
       "       [27.66638713],\n",
       "       [26.14797297],\n",
       "       [10.82965241],\n",
       "       [ 3.95874728],\n",
       "       [18.27951774],\n",
       "       [ 9.92179971],\n",
       "       [31.43595067],\n",
       "       [96.79379857],\n",
       "       [13.582576  ],\n",
       "       [37.1911627 ],\n",
       "       [ 0.48233374],\n",
       "       [ 1.86107672],\n",
       "       [10.31826113],\n",
       "       [-0.8422505 ],\n",
       "       [ 5.96346846],\n",
       "       [ 5.49185074],\n",
       "       [68.0274893 ],\n",
       "       [32.13602395],\n",
       "       [ 8.85194318],\n",
       "       [ 3.16650826],\n",
       "       [22.64144712],\n",
       "       [11.77173173],\n",
       "       [15.57877213],\n",
       "       [12.26453535],\n",
       "       [43.95004322],\n",
       "       [19.58773254],\n",
       "       [28.56726742],\n",
       "       [30.78305688],\n",
       "       [37.9964653 ],\n",
       "       [23.84545308],\n",
       "       [15.04840578],\n",
       "       [35.71375306],\n",
       "       [13.81512617],\n",
       "       [11.00397148],\n",
       "       [30.00164374],\n",
       "       [41.62526559],\n",
       "       [16.69791224],\n",
       "       [ 8.77818164],\n",
       "       [12.33201789],\n",
       "       [25.89022694],\n",
       "       [ 2.30213221],\n",
       "       [40.84548818],\n",
       "       [52.76595166],\n",
       "       [14.11486022],\n",
       "       [22.16413698],\n",
       "       [46.57038796],\n",
       "       [ 4.94595773],\n",
       "       [ 5.2147818 ],\n",
       "       [13.27658557],\n",
       "       [39.76604263],\n",
       "       [65.57798092],\n",
       "       [19.01790823],\n",
       "       [ 8.5763383 ],\n",
       "       [ 4.38748779],\n",
       "       [52.78020034],\n",
       "       [55.29854397],\n",
       "       [ 8.89996063],\n",
       "       [13.15954398],\n",
       "       [24.72770682],\n",
       "       [ 8.94384855],\n",
       "       [14.72907933],\n",
       "       [23.09920048],\n",
       "       [14.04922634],\n",
       "       [21.81086275],\n",
       "       [26.94206601],\n",
       "       [29.24454461],\n",
       "       [25.86500311],\n",
       "       [12.01317066],\n",
       "       [ 8.96000597],\n",
       "       [13.06122121],\n",
       "       [29.89596962],\n",
       "       [22.08178927],\n",
       "       [26.32163087],\n",
       "       [16.92165209],\n",
       "       [27.52532232],\n",
       "       [13.22558584],\n",
       "       [33.06094442],\n",
       "       [ 5.1295498 ],\n",
       "       [11.79633939],\n",
       "       [23.84125176],\n",
       "       [ 7.63359005],\n",
       "       [17.48724485],\n",
       "       [11.03831325],\n",
       "       [19.21749692],\n",
       "       [ 8.61839879],\n",
       "       [17.54488066],\n",
       "       [21.21063577],\n",
       "       [19.37369271],\n",
       "       [11.00194913],\n",
       "       [10.60235403],\n",
       "       [21.15215895],\n",
       "       [29.90784323],\n",
       "       [ 8.78021468],\n",
       "       [12.08716259],\n",
       "       [13.72974905],\n",
       "       [ 5.14085884],\n",
       "       [38.30583124],\n",
       "       [44.25669505],\n",
       "       [25.02376723],\n",
       "       [ 9.60356061],\n",
       "       [48.19131377],\n",
       "       [ 7.25008813],\n",
       "       [34.46925507],\n",
       "       [10.39922034],\n",
       "       [42.64688638],\n",
       "       [14.84776456],\n",
       "       [21.63661034],\n",
       "       [16.82676397],\n",
       "       [29.34421014],\n",
       "       [10.74780688],\n",
       "       [97.93857301],\n",
       "       [ 2.63997761],\n",
       "       [35.17705978],\n",
       "       [ 2.87305399],\n",
       "       [15.79766928],\n",
       "       [13.8863454 ],\n",
       "       [26.37227198],\n",
       "       [ 8.22358437],\n",
       "       [49.21500354],\n",
       "       [11.18675594],\n",
       "       [14.75499017],\n",
       "       [ 3.154125  ],\n",
       "       [27.68733965],\n",
       "       [19.71184802],\n",
       "       [13.36267742],\n",
       "       [21.57121186],\n",
       "       [51.4684963 ],\n",
       "       [31.05696527],\n",
       "       [46.86554973],\n",
       "       [26.32170419],\n",
       "       [ 0.64409854],\n",
       "       [20.88730101],\n",
       "       [23.76780545],\n",
       "       [45.45932131],\n",
       "       [16.96472583],\n",
       "       [10.5263675 ],\n",
       "       [46.3668065 ],\n",
       "       [ 2.67931614],\n",
       "       [37.57077753],\n",
       "       [15.08443695]])"
      ]
     },
     "execution_count": 15,
     "metadata": {},
     "output_type": "execute_result"
    }
   ],
   "source": [
    "y_predict = np.dot(X_test, W) + b\n",
    "y_predict"
   ]
  },
  {
   "cell_type": "markdown",
   "metadata": {},
   "source": [
    "## Generate submission csv file"
   ]
  },
  {
   "cell_type": "code",
   "execution_count": 16,
   "metadata": {},
   "outputs": [
    {
     "data": {
      "text/html": [
       "<div>\n",
       "<style scoped>\n",
       "    .dataframe tbody tr th:only-of-type {\n",
       "        vertical-align: middle;\n",
       "    }\n",
       "\n",
       "    .dataframe tbody tr th {\n",
       "        vertical-align: top;\n",
       "    }\n",
       "\n",
       "    .dataframe thead th {\n",
       "        text-align: right;\n",
       "    }\n",
       "</style>\n",
       "<table border=\"1\" class=\"dataframe\">\n",
       "  <thead>\n",
       "    <tr style=\"text-align: right;\">\n",
       "      <th></th>\n",
       "      <th>id</th>\n",
       "      <th>value</th>\n",
       "    </tr>\n",
       "  </thead>\n",
       "  <tbody>\n",
       "    <tr>\n",
       "      <th>0</th>\n",
       "      <td>id_0</td>\n",
       "      <td>31.237891</td>\n",
       "    </tr>\n",
       "    <tr>\n",
       "      <th>1</th>\n",
       "      <td>id_1</td>\n",
       "      <td>10.918460</td>\n",
       "    </tr>\n",
       "    <tr>\n",
       "      <th>2</th>\n",
       "      <td>id_2</td>\n",
       "      <td>33.538798</td>\n",
       "    </tr>\n",
       "    <tr>\n",
       "      <th>3</th>\n",
       "      <td>id_3</td>\n",
       "      <td>20.293961</td>\n",
       "    </tr>\n",
       "    <tr>\n",
       "      <th>4</th>\n",
       "      <td>id_4</td>\n",
       "      <td>45.768924</td>\n",
       "    </tr>\n",
       "  </tbody>\n",
       "</table>\n",
       "</div>"
      ],
      "text/plain": [
       "     id      value\n",
       "0  id_0  31.237891\n",
       "1  id_1  10.918460\n",
       "2  id_2  33.538798\n",
       "3  id_3  20.293961\n",
       "4  id_4  45.768924"
      ]
     },
     "execution_count": 16,
     "metadata": {},
     "output_type": "execute_result"
    }
   ],
   "source": [
    "data_submit = {'id': df_test[0].unique(), 'value': y_predict.reshape(1, -1)[0]}\n",
    "df_submit = pd.DataFrame(data_submit)\n",
    "df_submit.head()"
   ]
  },
  {
   "cell_type": "code",
   "execution_count": 17,
   "metadata": {},
   "outputs": [],
   "source": [
    "df_submit.to_csv('submission.csv', index=False)"
   ]
  },
  {
   "cell_type": "code",
   "execution_count": 20,
   "metadata": {},
   "outputs": [
    {
     "name": "stdout",
     "output_type": "stream",
     "text": [
      "id,value\n",
      "id_0,31.696346780163733\n",
      "id_1,10.731900860202735\n",
      "id_2,35.064320391250064\n",
      "id_3,20.2139549069601\n",
      "id_4,46.505006706933585\n",
      "id_5,57.78130099082912\n",
      "id_6,32.90253364779179\n",
      "id_7,17.897677615084568\n",
      "id_8,3.1701880072903563\n"
     ]
    }
   ],
   "source": [
    "!head submission.csv"
   ]
  },
  {
   "cell_type": "markdown",
   "metadata": {},
   "source": [
    "## Refference"
   ]
  },
  {
   "cell_type": "markdown",
   "metadata": {},
   "source": [
    "https://en.wikipedia.org/wiki/Matrix_calculus"
   ]
  },
  {
   "cell_type": "markdown",
   "metadata": {},
   "source": [
    "https://blog.csdn.net/nomadlx53/article/details/50849941"
   ]
  },
  {
   "cell_type": "markdown",
   "metadata": {},
   "source": [
    "https://www.jb51.net/article/146990.htm"
   ]
  }
 ],
 "metadata": {
  "kernelspec": {
   "display_name": "Python 3",
   "language": "python",
   "name": "python3"
  },
  "language_info": {
   "codemirror_mode": {
    "name": "ipython",
    "version": 3
   },
   "file_extension": ".py",
   "mimetype": "text/x-python",
   "name": "python",
   "nbconvert_exporter": "python",
   "pygments_lexer": "ipython3",
   "version": "3.6.5"
  }
 },
 "nbformat": 4,
 "nbformat_minor": 2
}
